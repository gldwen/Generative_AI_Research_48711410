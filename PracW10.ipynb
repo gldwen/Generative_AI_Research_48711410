{
  "cells": [
    {
      "cell_type": "markdown",
      "metadata": {
        "id": "O8-eA5Di48OZ"
      },
      "source": [
        "<a href=\"https://colab.research.google.com/github/COMP4702-UQ/Pracs-notebook/blob/main/PracW10.ipynb\" target=\"_parent\"><img src=\"https://colab.research.google.com/assets/colab-badge.svg\" alt=\"Open In Colab\"/></a>"
      ]
    },
    {
      "cell_type": "code",
      "execution_count": 1,
      "metadata": {
        "id": "VYVLx0wJaVnq"
      },
      "outputs": [],
      "source": [
        "# import libraries\n",
        "import pandas as pd\n",
        "import numpy as np\n",
        "import seaborn as sns\n",
        "import matplotlib.pyplot as plt\n",
        "from sklearn.model_selection import train_test_split"
      ]
    },
    {
      "cell_type": "code",
      "execution_count": 2,
      "metadata": {
        "id": "igWtur42bLQj",
        "outputId": "fcdecdb2-6382-4109-8748-e27863193515",
        "colab": {
          "base_uri": "https://localhost:8080/",
          "height": 356
        }
      },
      "outputs": [
        {
          "output_type": "error",
          "ename": "FileNotFoundError",
          "evalue": "[Errno 2] No such file or directory: 'w3classif.csv'",
          "traceback": [
            "\u001b[0;31m---------------------------------------------------------------------------\u001b[0m",
            "\u001b[0;31mFileNotFoundError\u001b[0m                         Traceback (most recent call last)",
            "\u001b[0;32m<ipython-input-2-cbce391d3ef8>\u001b[0m in \u001b[0;36m<cell line: 0>\u001b[0;34m()\u001b[0m\n\u001b[1;32m      1\u001b[0m \u001b[0;31m# Load dataset\u001b[0m\u001b[0;34m\u001b[0m\u001b[0;34m\u001b[0m\u001b[0m\n\u001b[0;32m----> 2\u001b[0;31m \u001b[0mdata\u001b[0m \u001b[0;34m=\u001b[0m \u001b[0mpd\u001b[0m\u001b[0;34m.\u001b[0m\u001b[0mread_csv\u001b[0m\u001b[0;34m(\u001b[0m\u001b[0;34m\"w3classif.csv\"\u001b[0m\u001b[0;34m,\u001b[0m \u001b[0mnames\u001b[0m\u001b[0;34m=\u001b[0m\u001b[0;34m[\u001b[0m\u001b[0;34m\"X1\"\u001b[0m\u001b[0;34m,\u001b[0m \u001b[0;34m\"X2\"\u001b[0m\u001b[0;34m,\u001b[0m \u001b[0;34m\"Y\"\u001b[0m\u001b[0;34m]\u001b[0m\u001b[0;34m)\u001b[0m\u001b[0;34m\u001b[0m\u001b[0;34m\u001b[0m\u001b[0m\n\u001b[0m\u001b[1;32m      3\u001b[0m \u001b[0;34m\u001b[0m\u001b[0m\n\u001b[1;32m      4\u001b[0m \u001b[0;31m# TODO: Shuffle and split the data (random_state=42)\u001b[0m\u001b[0;34m\u001b[0m\u001b[0;34m\u001b[0m\u001b[0m\n\u001b[1;32m      5\u001b[0m \u001b[0mX_train\u001b[0m\u001b[0;34m,\u001b[0m \u001b[0mX_holdout\u001b[0m\u001b[0;34m,\u001b[0m \u001b[0my_train\u001b[0m\u001b[0;34m,\u001b[0m \u001b[0my_holdout\u001b[0m \u001b[0;34m=\u001b[0m \u001b[0;34m...\u001b[0m\u001b[0;34m\u001b[0m\u001b[0;34m\u001b[0m\u001b[0m\n",
            "\u001b[0;32m/usr/local/lib/python3.11/dist-packages/pandas/io/parsers/readers.py\u001b[0m in \u001b[0;36mread_csv\u001b[0;34m(filepath_or_buffer, sep, delimiter, header, names, index_col, usecols, dtype, engine, converters, true_values, false_values, skipinitialspace, skiprows, skipfooter, nrows, na_values, keep_default_na, na_filter, verbose, skip_blank_lines, parse_dates, infer_datetime_format, keep_date_col, date_parser, date_format, dayfirst, cache_dates, iterator, chunksize, compression, thousands, decimal, lineterminator, quotechar, quoting, doublequote, escapechar, comment, encoding, encoding_errors, dialect, on_bad_lines, delim_whitespace, low_memory, memory_map, float_precision, storage_options, dtype_backend)\u001b[0m\n\u001b[1;32m   1024\u001b[0m     \u001b[0mkwds\u001b[0m\u001b[0;34m.\u001b[0m\u001b[0mupdate\u001b[0m\u001b[0;34m(\u001b[0m\u001b[0mkwds_defaults\u001b[0m\u001b[0;34m)\u001b[0m\u001b[0;34m\u001b[0m\u001b[0;34m\u001b[0m\u001b[0m\n\u001b[1;32m   1025\u001b[0m \u001b[0;34m\u001b[0m\u001b[0m\n\u001b[0;32m-> 1026\u001b[0;31m     \u001b[0;32mreturn\u001b[0m \u001b[0m_read\u001b[0m\u001b[0;34m(\u001b[0m\u001b[0mfilepath_or_buffer\u001b[0m\u001b[0;34m,\u001b[0m \u001b[0mkwds\u001b[0m\u001b[0;34m)\u001b[0m\u001b[0;34m\u001b[0m\u001b[0;34m\u001b[0m\u001b[0m\n\u001b[0m\u001b[1;32m   1027\u001b[0m \u001b[0;34m\u001b[0m\u001b[0m\n\u001b[1;32m   1028\u001b[0m \u001b[0;34m\u001b[0m\u001b[0m\n",
            "\u001b[0;32m/usr/local/lib/python3.11/dist-packages/pandas/io/parsers/readers.py\u001b[0m in \u001b[0;36m_read\u001b[0;34m(filepath_or_buffer, kwds)\u001b[0m\n\u001b[1;32m    618\u001b[0m \u001b[0;34m\u001b[0m\u001b[0m\n\u001b[1;32m    619\u001b[0m     \u001b[0;31m# Create the parser.\u001b[0m\u001b[0;34m\u001b[0m\u001b[0;34m\u001b[0m\u001b[0m\n\u001b[0;32m--> 620\u001b[0;31m     \u001b[0mparser\u001b[0m \u001b[0;34m=\u001b[0m \u001b[0mTextFileReader\u001b[0m\u001b[0;34m(\u001b[0m\u001b[0mfilepath_or_buffer\u001b[0m\u001b[0;34m,\u001b[0m \u001b[0;34m**\u001b[0m\u001b[0mkwds\u001b[0m\u001b[0;34m)\u001b[0m\u001b[0;34m\u001b[0m\u001b[0;34m\u001b[0m\u001b[0m\n\u001b[0m\u001b[1;32m    621\u001b[0m \u001b[0;34m\u001b[0m\u001b[0m\n\u001b[1;32m    622\u001b[0m     \u001b[0;32mif\u001b[0m \u001b[0mchunksize\u001b[0m \u001b[0;32mor\u001b[0m \u001b[0miterator\u001b[0m\u001b[0;34m:\u001b[0m\u001b[0;34m\u001b[0m\u001b[0;34m\u001b[0m\u001b[0m\n",
            "\u001b[0;32m/usr/local/lib/python3.11/dist-packages/pandas/io/parsers/readers.py\u001b[0m in \u001b[0;36m__init__\u001b[0;34m(self, f, engine, **kwds)\u001b[0m\n\u001b[1;32m   1618\u001b[0m \u001b[0;34m\u001b[0m\u001b[0m\n\u001b[1;32m   1619\u001b[0m         \u001b[0mself\u001b[0m\u001b[0;34m.\u001b[0m\u001b[0mhandles\u001b[0m\u001b[0;34m:\u001b[0m \u001b[0mIOHandles\u001b[0m \u001b[0;34m|\u001b[0m \u001b[0;32mNone\u001b[0m \u001b[0;34m=\u001b[0m \u001b[0;32mNone\u001b[0m\u001b[0;34m\u001b[0m\u001b[0;34m\u001b[0m\u001b[0m\n\u001b[0;32m-> 1620\u001b[0;31m         \u001b[0mself\u001b[0m\u001b[0;34m.\u001b[0m\u001b[0m_engine\u001b[0m \u001b[0;34m=\u001b[0m \u001b[0mself\u001b[0m\u001b[0;34m.\u001b[0m\u001b[0m_make_engine\u001b[0m\u001b[0;34m(\u001b[0m\u001b[0mf\u001b[0m\u001b[0;34m,\u001b[0m \u001b[0mself\u001b[0m\u001b[0;34m.\u001b[0m\u001b[0mengine\u001b[0m\u001b[0;34m)\u001b[0m\u001b[0;34m\u001b[0m\u001b[0;34m\u001b[0m\u001b[0m\n\u001b[0m\u001b[1;32m   1621\u001b[0m \u001b[0;34m\u001b[0m\u001b[0m\n\u001b[1;32m   1622\u001b[0m     \u001b[0;32mdef\u001b[0m \u001b[0mclose\u001b[0m\u001b[0;34m(\u001b[0m\u001b[0mself\u001b[0m\u001b[0;34m)\u001b[0m \u001b[0;34m->\u001b[0m \u001b[0;32mNone\u001b[0m\u001b[0;34m:\u001b[0m\u001b[0;34m\u001b[0m\u001b[0;34m\u001b[0m\u001b[0m\n",
            "\u001b[0;32m/usr/local/lib/python3.11/dist-packages/pandas/io/parsers/readers.py\u001b[0m in \u001b[0;36m_make_engine\u001b[0;34m(self, f, engine)\u001b[0m\n\u001b[1;32m   1878\u001b[0m                 \u001b[0;32mif\u001b[0m \u001b[0;34m\"b\"\u001b[0m \u001b[0;32mnot\u001b[0m \u001b[0;32min\u001b[0m \u001b[0mmode\u001b[0m\u001b[0;34m:\u001b[0m\u001b[0;34m\u001b[0m\u001b[0;34m\u001b[0m\u001b[0m\n\u001b[1;32m   1879\u001b[0m                     \u001b[0mmode\u001b[0m \u001b[0;34m+=\u001b[0m \u001b[0;34m\"b\"\u001b[0m\u001b[0;34m\u001b[0m\u001b[0;34m\u001b[0m\u001b[0m\n\u001b[0;32m-> 1880\u001b[0;31m             self.handles = get_handle(\n\u001b[0m\u001b[1;32m   1881\u001b[0m                 \u001b[0mf\u001b[0m\u001b[0;34m,\u001b[0m\u001b[0;34m\u001b[0m\u001b[0;34m\u001b[0m\u001b[0m\n\u001b[1;32m   1882\u001b[0m                 \u001b[0mmode\u001b[0m\u001b[0;34m,\u001b[0m\u001b[0;34m\u001b[0m\u001b[0;34m\u001b[0m\u001b[0m\n",
            "\u001b[0;32m/usr/local/lib/python3.11/dist-packages/pandas/io/common.py\u001b[0m in \u001b[0;36mget_handle\u001b[0;34m(path_or_buf, mode, encoding, compression, memory_map, is_text, errors, storage_options)\u001b[0m\n\u001b[1;32m    871\u001b[0m         \u001b[0;32mif\u001b[0m \u001b[0mioargs\u001b[0m\u001b[0;34m.\u001b[0m\u001b[0mencoding\u001b[0m \u001b[0;32mand\u001b[0m \u001b[0;34m\"b\"\u001b[0m \u001b[0;32mnot\u001b[0m \u001b[0;32min\u001b[0m \u001b[0mioargs\u001b[0m\u001b[0;34m.\u001b[0m\u001b[0mmode\u001b[0m\u001b[0;34m:\u001b[0m\u001b[0;34m\u001b[0m\u001b[0;34m\u001b[0m\u001b[0m\n\u001b[1;32m    872\u001b[0m             \u001b[0;31m# Encoding\u001b[0m\u001b[0;34m\u001b[0m\u001b[0;34m\u001b[0m\u001b[0m\n\u001b[0;32m--> 873\u001b[0;31m             handle = open(\n\u001b[0m\u001b[1;32m    874\u001b[0m                 \u001b[0mhandle\u001b[0m\u001b[0;34m,\u001b[0m\u001b[0;34m\u001b[0m\u001b[0;34m\u001b[0m\u001b[0m\n\u001b[1;32m    875\u001b[0m                 \u001b[0mioargs\u001b[0m\u001b[0;34m.\u001b[0m\u001b[0mmode\u001b[0m\u001b[0;34m,\u001b[0m\u001b[0;34m\u001b[0m\u001b[0;34m\u001b[0m\u001b[0m\n",
            "\u001b[0;31mFileNotFoundError\u001b[0m: [Errno 2] No such file or directory: 'w3classif.csv'"
          ]
        }
      ],
      "source": [
        "# Load dataset\n",
        "data = pd.read_csv(\"w3classif.csv\", names=[\"X1\", \"X2\", \"Y\"])\n",
        "\n",
        "# TODO: Shuffle and split the data (random_state=42)\n",
        "X_train, X_holdout, y_train, y_holdout = ..."
      ]
    },
    {
      "cell_type": "markdown",
      "metadata": {
        "id": "q1WB1Xw9cErZ"
      },
      "source": [
        "# Q1"
      ]
    },
    {
      "cell_type": "markdown",
      "metadata": {
        "id": "0hJgm1oWtHcJ"
      },
      "source": [
        "Fit a single Decision Tree classifier to the training data"
      ]
    },
    {
      "cell_type": "code",
      "execution_count": null,
      "metadata": {
        "colab": {
          "base_uri": "https://localhost:8080/"
        },
        "id": "vAqA9Cosbz_w",
        "outputId": "f168b51a-a643-4ab2-bebb-d717dc915cf5"
      },
      "outputs": [
        {
          "name": "stdout",
          "output_type": "stream",
          "text": [
            "E_train: 0.0\n",
            "E_hold-out: 0.025\n"
          ]
        }
      ],
      "source": [
        "from sklearn.tree import DecisionTreeClassifier\n",
        "\n",
        "# TODO: Fit a single Decision Tree classifier to the training data with default parameters\n",
        "tree = ...\n",
        "\n",
        "# TODO: Predict on training and holdout sets\n",
        "\n",
        "# TODO: Calculate Etrain and Ehold-out\n",
        "Etrain_tree = ...\n",
        "Eholdout_tree = ...\n",
        "\n",
        "# Print the results\n",
        "print(\"E_train:\", Etrain_tree)\n",
        "print(\"E_hold-out:\", Eholdout_tree)"
      ]
    },
    {
      "cell_type": "markdown",
      "metadata": {
        "id": "Kxnls4NJcKir"
      },
      "source": [
        "# Q2"
      ]
    },
    {
      "cell_type": "markdown",
      "metadata": {
        "id": "ktBpxP4WtDn0"
      },
      "source": [
        "Fit a bagging ensemble method to the same training data using the Random Forest algorithm"
      ]
    },
    {
      "cell_type": "code",
      "execution_count": null,
      "metadata": {
        "colab": {
          "base_uri": "https://localhost:8080/"
        },
        "id": "2z6KDoZMb_nk",
        "outputId": "cfdfed6e-1eb7-49e8-abd2-94825fce1539"
      },
      "outputs": [
        {
          "name": "stdout",
          "output_type": "stream",
          "text": [
            "E_train: 0.0\n",
            "E_hold-out: 0.016666666666666666\n"
          ]
        }
      ],
      "source": [
        "from sklearn.ensemble import RandomForestClassifier\n",
        "\n",
        "# TODO: Fit a Random Forest ensemble with 100 trees\n",
        "forest = RandomForestClassifier(n_estimators=100, random_state=42).fit(X_train, y_train)\n",
        "\n",
        "# TODO: Predict on training and holdout sets\n",
        "\n",
        "# TODO: Calculate Etrain and Ehold-out\n",
        "Etrain_forest = ...\n",
        "Eholdout_forest = ...\n",
        "\n",
        "# Print the results\n",
        "print(\"E_train:\", Etrain_forest)\n",
        "print(\"E_hold-out:\", Eholdout_forest)"
      ]
    },
    {
      "cell_type": "markdown",
      "metadata": {
        "id": "mEYYLQf_jzdY"
      },
      "source": [
        "# Q3"
      ]
    },
    {
      "cell_type": "markdown",
      "metadata": {
        "id": "fhC2OV6-tR1d"
      },
      "source": [
        "Repeat DecisionTreeClassifier for different depths and plot the train errors"
      ]
    },
    {
      "cell_type": "code",
      "execution_count": null,
      "metadata": {
        "colab": {
          "base_uri": "https://localhost:8080/",
          "height": 449
        },
        "id": "6QKWKtYPjy8V",
        "outputId": "d83559fb-88db-4052-e966-5028f03f8b4d"
      },
      "outputs": [
        {
          "data": {
            "image/png": "[encoded data removed]",
            "text/plain": [
              "<Figure size 640x480 with 1 Axes>"
            ]
          },
          "metadata": {},
          "output_type": "display_data"
        }
      ],
      "source": [
        "# TODO: Generate tree depth\n",
        "depths = ...\n",
        "\n",
        "Etrain_tree_depths = []\n",
        "Eholdout_tree_depths = []\n",
        "\n",
        "# TODO: train a DecisionTreeClassifier with different depths and record the errors\n",
        "for depth in depths:\n",
        "  # TODO: Fit the model\n",
        "\n",
        "  # TODO: Predict on training and holdout sets\n",
        "\n",
        "  # TODO: Calculate Etrain and Ehold-out\n",
        "\n",
        "# E_train Visualisation\n",
        "plt.plot(depths, Etrain_tree_depths, label=r\"$E_{train}$\")\n",
        "plt.xlabel(\"Tree Depth\")\n",
        "plt.ylabel(\"Error\")\n",
        "plt.legend()\n",
        "plt.show()"
      ]
    },
    {
      "cell_type": "markdown",
      "metadata": {
        "id": "8AaAc1Z6trtW"
      },
      "source": [
        "Repeat RandomForestClassifier for different ensemble sizes and plot the train error"
      ]
    },
    {
      "cell_type": "code",
      "execution_count": null,
      "metadata": {
        "colab": {
          "base_uri": "https://localhost:8080/",
          "height": 449
        },
        "id": "dwHoCLV7kUd7",
        "outputId": "57f4417e-6f32-40b6-8054-8e50d022463f"
      },
      "outputs": [
        {
          "data": {
            "image/png": "[encoded data removed]",
            "text/plain": [
              "<Figure size 640x480 with 1 Axes>"
            ]
          },
          "metadata": {},
          "output_type": "display_data"
        }
      ],
      "source": [
        "# TODO: Generate # of trees\n",
        "ensemble_sizes = np.arange(1, 101)\n",
        "\n",
        "Etrain_forest_sizes = []\n",
        "Eholdout_forest_sizes = []\n",
        "\n",
        "# TODO: train a RandomForestClassifier with different estimator sizes and record the errors\n",
        "for size in ensemble_sizes:\n",
        "  # TODO: Fit the model\n",
        "\n",
        "  # TODO: Predict on training and holdout sets\n",
        "\n",
        "  # TODO: Calculate Etrain and Ehold-out\n",
        "\n",
        "# E_train Visualisation\n",
        "plt.plot(ensemble_sizes, Etrain_forest_sizes, label=r\"$E_{train}$\")\n",
        "plt.xlabel(\"Ensemble Size\")\n",
        "plt.ylabel(\"Error\")\n",
        "plt.legend()\n",
        "plt.show()\n"
      ]
    },
    {
      "cell_type": "markdown",
      "metadata": {
        "id": "t0DlW7uFrmAb"
      },
      "source": [
        "# Q4"
      ]
    },
    {
      "cell_type": "markdown",
      "metadata": {
        "id": "IPjWwNMTt3Sl"
      },
      "source": [
        "Generate a much larger version of the dataset as data: for each input variable, half of the input data points (for class 0) are drawn from a $\\mathcal{N}(0, 1)$, the other half (for class 1) from a $\\mathcal{N}(3, 1.5)$."
      ]
    },
    {
      "cell_type": "code",
      "execution_count": null,
      "metadata": {
        "id": "r4HPtzZEcpaU"
      },
      "outputs": [],
      "source": [
        "N = 5000 # size of the dataset\n",
        "\n",
        "# TODO: Generate a much larger version of the dataset with specified means and variances from a normal distribution\n",
        "\n",
        "# TODO: Combine the data into a single DataFrame\n",
        "\n",
        "# TODO: Shuffle the dataset"
      ]
    },
    {
      "cell_type": "markdown",
      "metadata": {
        "id": "eGLJR4tFuON-"
      },
      "source": [
        "Split your large dataset into (e.g 10) equal parts. Consider each part as your holdout set and remaining 9 parts as your training set, and fit a decision tree model. Calculate the variance for each model, and for the final model."
      ]
    },
    {
      "cell_type": "code",
      "execution_count": null,
      "metadata": {
        "colab": {
          "base_uri": "https://localhost:8080/"
        },
        "id": "YvQwaMrenM3U",
        "outputId": "d7190e25-3a4a-46c3-dee7-67186f66694e"
      },
      "outputs": [
        {
          "name": "stdout",
          "output_type": "stream",
          "text": [
            "Final mean of the train error: 0.000222\n",
            "Final mean of the holdout error: 0.05\n"
          ]
        }
      ],
      "source": [
        "num_parts = 10\n",
        "# TODO: Split the data into 10 equal parts\n",
        "\n",
        "\n",
        "# Initialize lists to store errors\n",
        "Etrain_tree_parts = []\n",
        "Eholdout_tree_parts = []\n",
        "\n",
        "# Loop through each part as the holdout set\n",
        "for i in range(num_parts):\n",
        "  # TODO: Extract the ith part as the holdout set\n",
        "\n",
        "\n",
        "  # TODO: Combine the remaining parts as the training set\n",
        "\n",
        "\n",
        "  # TODO: Fit a decision tree on the training set\n",
        "\n",
        "\n",
        "  # TODO: Predict on the training and holdout sets\n",
        "\n",
        "\n",
        "  # TODO: Calculate Etrain and Eholdout\n",
        "\n",
        "\n",
        "# TODO: Calculate the final variance of the error\n",
        "\n",
        "\n",
        "# Print the result\n",
        "print(\"Final mean of the train error:\", np.around(Etrain_tree_mean, 6))\n",
        "print(\"Final mean of the holdout error:\", np.around(Eholdout_tree_mean, 2))"
      ]
    },
    {
      "cell_type": "markdown",
      "metadata": {
        "id": "r1rXlhlR0bk1"
      },
      "source": [
        "Repeat the above with a Random Forest Classifier"
      ]
    },
    {
      "cell_type": "code",
      "execution_count": null,
      "metadata": {
        "colab": {
          "base_uri": "https://localhost:8080/"
        },
        "id": "FCPbrYHHiuOW",
        "outputId": "3ded9df2-bcf6-49eb-b53f-df9de000df71"
      },
      "outputs": [
        {
          "name": "stdout",
          "output_type": "stream",
          "text": [
            "Final mean of the train error: 0.0\n",
            "Final mean of the holdout error: 0.039599999999999996\n"
          ]
        }
      ],
      "source": [
        "# TODO: Shuffle the large dataset again\n",
        "\n",
        "# TODO: Split the data into 10 equal parts\n",
        "\n",
        "\n",
        "# Initialize lists to store errors\n",
        "Etrain_forest_parts = []\n",
        "Eholdout_forest_parts = []\n",
        "\n",
        "# Loop through each part as the holdout set\n",
        "for i in range(num_parts):\n",
        "  # TODO: Extract the ith part as the holdout set\n",
        "\n",
        "\n",
        "  # TODO: Combine the remaining parts as the training set\n",
        "\n",
        "\n",
        "  # TODO: Fit a random forest classifier on the training set\n",
        "\n",
        "\n",
        "  # TODO: Predict on the training and holdout sets\n",
        "\n",
        "\n",
        "  # TODO: Calculate Etrain and Eholdout\n",
        "\n",
        "\n",
        "# TODO: Calculate the final variance of the error\n",
        "\n",
        "# Print the result\n",
        "print(\"Final mean of the train error:\", Etrain_forest_mean)\n",
        "print(\"Final mean of the holdout error:\", Eholdout_forest_mean)"
      ]
    },
    {
      "cell_type": "markdown",
      "metadata": {
        "id": "zRrO05JNrq-3"
      },
      "source": [
        "# Q5"
      ]
    },
    {
      "cell_type": "markdown",
      "metadata": {
        "id": "TlElwZQ60qIF"
      },
      "source": [
        "Fit a boosting ensemble method to the initial training data using the AdaBoost algorithm. Calculate Etrain and Ehold-out for the ensemble."
      ]
    },
    {
      "cell_type": "code",
      "execution_count": null,
      "metadata": {
        "colab": {
          "base_uri": "https://localhost:8080/"
        },
        "id": "Ly8ex2DSqd-J",
        "outputId": "85f7c8b3-c1d4-4d0c-b1c1-f6c9d7a158f4"
      },
      "outputs": [
        {
          "name": "stdout",
          "output_type": "stream",
          "text": [
            "E_train: 0.025\n",
            "E_hold-out: 0.0\n"
          ]
        }
      ],
      "source": [
        "from sklearn.ensemble import AdaBoostClassifier\n",
        "\n",
        "# TODO: Fit an AdaBoost ensemble with 100 trees\n",
        "boost = ...\n",
        "\n",
        "# TODO: Predict on training and holdout sets\n",
        "\n",
        "# TODO: Calculate Etrain and Ehold-out\n",
        "Etrain_boost = ...\n",
        "Eholdout_boost = ...\n",
        "\n",
        "# Print the results\n",
        "print(\"E_train:\", Etrain_boost)\n",
        "print(\"E_hold-out:\", Eholdout_boost)"
      ]
    }
  ],
  "metadata": {
    "colab": {
      "provenance": []
    },
    "kernelspec": {
      "display_name": "Python 3",
      "name": "python3"
    },
    "language_info": {
      "name": "python"
    }
  },
  "nbformat": 4,
  "nbformat_minor": 0
}